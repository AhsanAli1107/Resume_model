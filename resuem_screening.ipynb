{
 "cells": [
  {
   "cell_type": "markdown",
   "id": "37f35786-054d-4512-a725-7c8a136b9022",
   "metadata": {},
   "source": [
    "## import libraries"
   ]
  },
  {
   "cell_type": "code",
   "execution_count": null,
   "id": "c78fd811-ce77-466f-9035-481911f10c68",
   "metadata": {},
   "outputs": [],
   "source": [
    "import pandas as pd \n",
    "import numpy as np\n",
    "import matplotlib.pyplot as plt\n",
    "import seaborn as sns"
   ]
  },
  {
   "cell_type": "markdown",
   "id": "8c784fc5-678f-4f70-9310-a24771eccc45",
   "metadata": {},
   "source": [
    "## Load The Data_Set"
   ]
  },
  {
   "cell_type": "code",
   "execution_count": null,
   "id": "40d8e94d-4da4-4799-b1fb-14096e07f860",
   "metadata": {},
   "outputs": [],
   "source": [
    "df = pd.read_csv('/Users/ahsanali/Desktop/Resume_dataset/UpdatedResumeDataSet.csv')"
   ]
  },
  {
   "cell_type": "code",
   "execution_count": null,
   "id": "5061ebdc-d535-46cf-9bec-01a19311e899",
   "metadata": {},
   "outputs": [],
   "source": [
    "df.head()"
   ]
  },
  {
   "cell_type": "code",
   "execution_count": null,
   "id": "e0de4543-202e-4cba-98d7-8c55fe7057ce",
   "metadata": {},
   "outputs": [],
   "source": [
    "df.shape\n"
   ]
  },
  {
   "cell_type": "markdown",
   "id": "c699dfb5-0283-4dbd-b309-e907feabb427",
   "metadata": {},
   "source": [
    "### Exploring Categories ###\n"
   ]
  },
  {
   "cell_type": "code",
   "execution_count": null,
   "id": "dfdcfbe0-d20a-42d8-9f6d-390f60160c84",
   "metadata": {},
   "outputs": [],
   "source": [
    "df['Category'].value_counts()"
   ]
  },
  {
   "cell_type": "code",
   "execution_count": null,
   "id": "cd949e9b-46a8-431a-b66d-4d4094f34fbf",
   "metadata": {},
   "outputs": [],
   "source": [
    "df.Category.unique()"
   ]
  },
  {
   "cell_type": "code",
   "execution_count": null,
   "id": "5308a767-2495-4e5e-96c1-fe8d024a6ce0",
   "metadata": {},
   "outputs": [],
   "source": [
    "df['Category'].unique()"
   ]
  },
  {
   "cell_type": "code",
   "execution_count": null,
   "id": "1cdbd4c5-085c-49bb-8c6b-bfd4c5a9f57c",
   "metadata": {},
   "outputs": [],
   "source": [
    "counts = df['Category'].value_counts()\n",
    "labels = df['Category'].unique()\n",
    "\n",
    "plt.figure(figure=(10,10))\n",
    "plt.pie(counts,labels=labels,autopct = '%1.1f%%', shadow = True, colors=plt.cm.plasma(np.linspace(0,1,3)))\n",
    "plt.show()"
   ]
  },
  {
   "cell_type": "markdown",
   "id": "3b9bf981-00dc-4560-9fb4-cd5ef115e605",
   "metadata": {},
   "source": [
    "### Data Cleaning ###"
   ]
  },
  {
   "cell_type": "code",
   "execution_count": null,
   "id": "39ea301d-c543-402e-9512-fa1967e8581b",
   "metadata": {},
   "outputs": [],
   "source": [
    "import re\n",
    "\n",
    "def cleanResume(txt):\n",
    "    cleantext = re.sub('http\\S+\\s', ' ',txt)\n",
    "    cleantext = re.sub('RT|cc', ' ', cleantext)\n",
    "    cleantext = re.sub('#\\S+\\s', ' ', cleantext)\n",
    "    cleantext = re.sub('@\\S+', ' ',cleantext)\n",
    "    cleantext = re.sub('[%s]' % re.escape(\"\"\"!\"#$%&'()*+,-./:;<=>?@[\\]^_`{|}~\"\"\"), ' ', cleantext)\n",
    "    cleantext = re.sub(r'[^\\x00-\\x7f]', ' ', cleantext)\n",
    "    cleantext = re.sub('\\s+', ' ',cleantext)\n",
    "    return(cleantext)"
   ]
  },
  {
   "cell_type": "code",
   "execution_count": null,
   "id": "3f7c07ab-eeed-4d5e-9483-50cf33a5bb2e",
   "metadata": {},
   "outputs": [],
   "source": [
    "df['Resume'] = df['Resume'].apply(lambda x: cleanResume(x))\n",
    "df['Resume'][1]"
   ]
  },
  {
   "cell_type": "markdown",
   "id": "7b3cb6ff-6439-4bdb-abaf-5fe8a375616a",
   "metadata": {},
   "source": [
    "### Word into the Categorical Value ###"
   ]
  },
  {
   "cell_type": "code",
   "execution_count": null,
   "id": "a6b5cf21-ac89-46fb-8dfe-71a1e18339ee",
   "metadata": {},
   "outputs": [],
   "source": [
    "from sklearn.preprocessing import LabelEncoder"
   ]
  },
  {
   "cell_type": "code",
   "execution_count": null,
   "id": "360629f4-4b6f-4029-b521-b846959a798d",
   "metadata": {},
   "outputs": [],
   "source": [
    "# Initialize the LabelEncoder\n",
    "le = LabelEncoder()\n",
    "\n",
    "# Fit and transform the 'Category' column\n",
    "le.fit(df['Category'])\n",
    "df['Category'] = le.transform(df['Category'])\n"
   ]
  },
  {
   "cell_type": "markdown",
   "id": "ac89aa95-3811-4b88-85c8-ffae3fb03927",
   "metadata": {},
   "source": [
    "### Vactorization ###"
   ]
  },
  {
   "cell_type": "code",
   "execution_count": null,
   "id": "2b987047-24de-4366-93ef-5c6b2bf259e2",
   "metadata": {},
   "outputs": [],
   "source": [
    "from sklearn.feature_extraction.text import TfidfVectorizer"
   ]
  },
  {
   "cell_type": "code",
   "execution_count": null,
   "id": "04d03c7e-cf0f-4097-9de5-1d24b017d1ee",
   "metadata": {},
   "outputs": [],
   "source": [
    "tfidf = TfidfVectorizer(stop_words = 'english')\n",
    "tfidf.fit(df['Resume'])\n",
    "required_txt = tfidf.transform(df['Resume'])"
   ]
  },
  {
   "cell_type": "markdown",
   "id": "8e9fc4aa-d338-4b80-b390-22593f020c5d",
   "metadata": {},
   "source": [
    "### Spliting the data ###"
   ]
  },
  {
   "cell_type": "code",
   "execution_count": null,
   "id": "d2004892-83ca-48bc-99f0-10d82b703455",
   "metadata": {},
   "outputs": [],
   "source": [
    "from sklearn.model_selection import train_test_split\n",
    "X_train,X_test,y_train,y_test = train_test_split(required_txt, df['Category'], test_size=0.2, random_state=42)"
   ]
  },
  {
   "cell_type": "markdown",
   "id": "11fb7cad-fd07-4987-9e68-bcf427cf5a6e",
   "metadata": {},
   "source": [
    "### Train Model and Classification Report ###"
   ]
  },
  {
   "cell_type": "code",
   "execution_count": null,
   "id": "bb56654f-cbdd-4735-8b34-9763fc803fdb",
   "metadata": {},
   "outputs": [],
   "source": [
    "from sklearn.neighbors import KNeighborsClassifier\n",
    "from sklearn.multiclass import OneVsRestClassifier\n",
    "from sklearn.metrics import accuracy_score\n",
    "\n",
    "clf = OneVsRestClassifier(KNeighborsClassifier())\n",
    "clf.fit(X_train,y_train)\n",
    "ypred = clf.predict(X_test)\n",
    "print(accuracy_score(y_test, ypred))"
   ]
  },
  {
   "cell_type": "markdown",
   "id": "92d2f31f-42a9-4dca-aacc-cda37c6001b5",
   "metadata": {},
   "source": [
    "## Save the Model"
   ]
  },
  {
   "cell_type": "code",
   "execution_count": null,
   "id": "5ae6fb9b-422b-40ac-b5d0-0e57fd1ff6ad",
   "metadata": {},
   "outputs": [],
   "source": [
    "import pickle\n",
    "\n",
    "pickle.dump(tfidf, open('tfidf.pk1', 'wb'))\n",
    "pickle.dump(clf, open('clf.pk2', 'wb'))"
   ]
  },
  {
   "cell_type": "code",
   "execution_count": null,
   "id": "b0698abc-aa81-45f8-a3f6-87419ea4e068",
   "metadata": {},
   "outputs": [],
   "source": [
    "sample_resume = \"\"\"\n",
    "ZULFIQAR\n",
    "\n",
    "EXPERIENCE\tSKILLS\n",
    "I have 2 years experience in website front end and backend development,\t\n",
    "Learning or writing a code everyday one of them my passionate works, Now I’m also a student or just studying.\tWeb Development.\n",
    "HTML, CSS.\n",
    "I ’m also teaching WordPress online to a few of my students.\tMSWord, PPT, Excel, Inpage.\n",
    "Logo Designing.\n",
    "EDUCATION\t\n",
    "CERTIFICATION\n",
    "The Orbit Institute, Lahore — BS Software Engineering\n",
    "NOV- 2019 - DEC- 2023\tWordpress\n",
    "Now I’m Currently Studying In Semester-IV\tFreelancing.\n",
    "HTML, CSS\n",
    "Govt. College, Lahore — ICS\tMSOmce.\n",
    "MARCH- 2018 - APRIL- 2019\t\n",
    "\tHOBBIES\n",
    "PROJECTS\tInternet Surﬁng\n",
    "Codding\n",
    "Mother’s Happy Kid’s — Business Website\n",
    "Design By Tanzeem Zulﬁqar.\tListening Music\n",
    "Welcome to Mother's Happy Kid's (mothershappykids.com.pk)\t\n",
    "\tLANGUAGES\n",
    "\n",
    "English\n",
    "\"\"\""
   ]
  },
  {
   "cell_type": "code",
   "execution_count": null,
   "id": "7c158edb-1116-4312-b7b7-b9d90c3fdc1f",
   "metadata": {},
   "outputs": [],
   "source": [
    "resume_sample_1 = \"\"\"\n",
    "Ahsan Ali\n",
    "\n",
    "Father’s name:    M.Akram              Date of birth:  21-08-1998             C.N.I.C # 33401-0485863-9\n",
    "Contact:   0303-7750606, 0316-1603495\n",
    "Email: ahsan_ali0606@outlook.com\n",
    "\n",
    "Address: BMC Stop Ram Pur, Rehmat Town Manawan G.T Road Bata Pur Lahore.\n",
    "Personal profile:\n",
    "A hardworking and adaptable individual who maintains a professional manner in the work place. Able to work under pressure in a methodical and responsible way whilst being able to meet deadlines. Mature and responsible, who\n",
    "always strives to achieve the highest standard possible, with excellent communication skills (verbal and written) and the ability to relate to wide range of people. Seeking a challenging position where my skills can be further\n",
    "developed and polished. I believe that I have the creativity and enthusiasm on any opportunity provided.\n",
    "\n",
    "Personal Experience:\n",
    "\n",
    "(2 Year)   > Assistant Accounts Manager         > Data entry operator. at Marhaba Internation Trading Co.\n",
    "\n",
    "(2 Year & 7 Month)   >   Accounts Dept.    Manage Accounts, Generate Sale Invoice and handling Bank Transactions at Al Mehboob Shawl China Center. (to till)\n",
    "\n",
    "Responsibilities:\n",
    "\n",
    "1.  Manage Accounts, Generate Sale Invoice and handling Bank Transactions.\n",
    "2.  Maintain all records for office use.\n",
    "Professional skills:\n",
    "\n",
    "1.  Data Analytic (Python, Machine learning, Deep learning)\n",
    "2. Internet, Emails,\n",
    "Qualification:\n",
    "1. Martic in Arts from National scholars Academy.(2011 to 2013)\n",
    "2. I.Com From Govt Islamia College Chiniot.(2013 to 2015)\n",
    "3.Dip in AI and Data Analytics From Boston Institute of Analytics.(Feb 2024 to Aug 2024)\n",
    "Hobbies:\n",
    "\n",
    "1. Reading Books\n",
    "Language:\n",
    "\n",
    "Urdu, English\n",
    "\"\"\""
   ]
  },
  {
   "cell_type": "markdown",
   "id": "5499da09-8527-41dc-b13f-e243e7b3019e",
   "metadata": {},
   "source": [
    "## Testing For Prediction"
   ]
  },
  {
   "cell_type": "code",
   "execution_count": null,
   "id": "f7bf5411-89e8-495d-b313-5b97dcf4660c",
   "metadata": {},
   "outputs": [],
   "source": [
    "# Load the Train Classifier\n",
    "with open('clf.pkl', 'wb') as file:\n",
    "    pickle.dump(clf, file)\n",
    "\n",
    "with open('clf.pkl', 'rb') as file:\n",
    "    clf = pickle.load(file)\n",
    "\n",
    "\n",
    "# Clean the Input Resume\n",
    "cleaned_Resume = cleanResume(sample_resume)\n",
    "\n",
    "# Transform the clean resume using the train TfidfVectorizer\n",
    "input_features = tfidf.transform([cleaned_Resume])\n",
    "\n",
    "# Make a prediction using the load Classifier\n",
    "prediction_id = clf.predict(input_features)[0]\n",
    "# Category Mappaing\n",
    "\n",
    "Category_Mappaing = {\n",
    "    6: 'Data Science',\n",
    "    12: 'HR',\n",
    "    0: 'Advocate',\n",
    "    1: 'Arts',\n",
    "    24: 'Web Designing',\n",
    "    16: 'Mechanical Engineer',\n",
    "    22: 'Sales',\n",
    "    14: 'Health and fitness',\n",
    "    5: 'Civil Engineer',\n",
    "    15: 'Java Developer',\n",
    "    4: 'Business Analyst',\n",
    "    21: 'SAP Developer',\n",
    "    2: 'Automation Testing',\n",
    "    11: 'Electrical Engineering',\n",
    "    18: 'Operations Manager',\n",
    "    20: 'Python Developer',\n",
    "    8: 'DevOps Engineer',\n",
    "    17: 'Network Security Engineer',\n",
    "    19: 'PMO',\n",
    "    7: 'Database',\n",
    "    13: 'Hadoop',\n",
    "    10: 'ETL Developer',\n",
    "    9: 'DotNet Developer',\n",
    "    3: 'Blockchain',\n",
    "    23: 'Testing'\n",
    "}\n",
    "category_name = Category_Mappaing.get(prediction_id, 'unknown')\n",
    "print('Predicted Category:', category_name)\n",
    "print(prediction_id)"
   ]
  },
  {
   "cell_type": "code",
   "execution_count": null,
   "id": "18fac338-4b2c-46eb-8132-79f38580af2e",
   "metadata": {},
   "outputs": [],
   "source": []
  },
  {
   "cell_type": "code",
   "execution_count": null,
   "id": "bdc1c001-28f4-41fc-99ae-a87e2138180c",
   "metadata": {},
   "outputs": [],
   "source": []
  },
  {
   "cell_type": "code",
   "execution_count": null,
   "id": "24186995-c2c5-4419-8135-ee8edf46635b",
   "metadata": {},
   "outputs": [],
   "source": []
  },
  {
   "cell_type": "code",
   "execution_count": null,
   "id": "d958c6be-fa59-4f1a-9c20-de4d57534904",
   "metadata": {},
   "outputs": [],
   "source": []
  },
  {
   "cell_type": "code",
   "execution_count": null,
   "id": "4818472e-1698-45ce-9314-d461044ad63f",
   "metadata": {},
   "outputs": [],
   "source": []
  },
  {
   "cell_type": "code",
   "execution_count": null,
   "id": "81e1b45c-21e8-4668-a133-1bfd4c4ab238",
   "metadata": {},
   "outputs": [],
   "source": []
  },
  {
   "cell_type": "code",
   "execution_count": null,
   "id": "5858bb6b-45ef-468d-b922-42cf6768cb56",
   "metadata": {},
   "outputs": [],
   "source": []
  },
  {
   "cell_type": "code",
   "execution_count": null,
   "id": "f58b1f5d-abfe-406e-818f-b6e43a654813",
   "metadata": {},
   "outputs": [],
   "source": [
    "import numpy as np\n",
    "\n",
    "# Define the arrays\n",
    "numerical_codes = np.array([6, 12, 0, 1, 24, 16, 22, 14, 5, 15, 4, 21, 2, 11, 18, 20, 8, 17, 19, 7, 13, 10, 9, 3, 23])\n",
    "job_titles = np.array([\n",
    "    'Data Science', 'HR', 'Advocate', 'Arts', 'Web Designing',\n",
    "    'Mechanical Engineer', 'Sales', 'Health and fitness',\n",
    "    'Civil Engineer', 'Java Developer', 'Business Analyst',\n",
    "    'SAP Developer', 'Automation Testing', 'Electrical Engineering',\n",
    "    'Operations Manager', 'Python Developer', 'DevOps Engineer',\n",
    "    'Network Security Engineer', 'PMO', 'Database', 'Hadoop',\n",
    "    'ETL Developer', 'DotNet Developer', 'Blockchain', 'Testing'\n",
    "])\n",
    "\n",
    "# Create the dictionary mapping numerical codes to job titles\n",
    "code_to_title = {code: job_titles[i] for i, code in enumerate(numerical_codes)}\n",
    "\n",
    "# Print the dictionary\n",
    "print(code_to_title)\n"
   ]
  },
  {
   "cell_type": "code",
   "execution_count": null,
   "id": "2921b8b8-5e4f-4598-a6b1-e464702ea92e",
   "metadata": {},
   "outputs": [],
   "source": []
  }
 ],
 "metadata": {
  "kernelspec": {
   "display_name": "Python 3 (ipykernel)",
   "language": "python",
   "name": "python3"
  },
  "language_info": {
   "codemirror_mode": {
    "name": "ipython",
    "version": 3
   },
   "file_extension": ".py",
   "mimetype": "text/x-python",
   "name": "python",
   "nbconvert_exporter": "python",
   "pygments_lexer": "ipython3",
   "version": "3.11.7"
  }
 },
 "nbformat": 4,
 "nbformat_minor": 5
}
